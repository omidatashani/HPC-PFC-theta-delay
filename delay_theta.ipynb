{
 "cells": [
  {
   "cell_type": "code",
   "execution_count": 1,
   "metadata": {},
   "outputs": [],
   "source": [
    "# Written by Shivani Verma\n",
    "# Edited by Omid Amiratashani\n",
    "from signal import signal\n",
    "from matplotlib.offsetbox import HPacker\n",
    "import scipy\n",
    "import scipy\n",
    "from scipy.io import loadmat\n",
    "import numpy as np\n",
    "import matplotlib.pyplot as plt\n",
    "import glob\n",
    "import os\n",
    "from spectral_connectivity import Multitaper\n",
    "from spectral_connectivity import Connectivity\n",
    "from spectral_connectivity import multitaper_connectivity\n",
    "from pathlib import Path\n",
    "import pandas as pd\n",
    "from scipy.signal import decimate"
   ]
  },
  {
   "attachments": {},
   "cell_type": "markdown",
   "metadata": {},
   "source": [
    "function to calculate delays at theta gamma frequencies"
   ]
  },
  {
   "cell_type": "code",
   "execution_count": 2,
   "metadata": {},
   "outputs": [],
   "source": [
    "# this function gives the list of theta and gamma delays calculated using windowing \n",
    "\n",
    "def theta_beta(pathsHPC,pathsPFC):\n",
    "    time_halfbandwidth_product = 5\n",
    "    n_trials = len(pathsHPC)\n",
    "    theta=[]\n",
    "\n",
    "    for i in range(n_trials):\n",
    "        dataHPC = scipy.io.loadmat(pathsHPC[i])\n",
    "        dataPFC = scipy.io.loadmat(pathsPFC[i])\n",
    "\n",
    "        current_dataHPC = dataHPC['HPC']\n",
    "        current_dataPFC = dataPFC['PFC']\n",
    "        n_time_samples = len(current_dataHPC)\n",
    "\n",
    "        \n",
    "        downsampled_dataHPC = decimate(current_dataHPC, 4, ftype='fir')\n",
    "        downsampled_dataPFC = decimate(current_dataPFC, 4, ftype='fir')\n",
    "\n",
    "        \n",
    "        n_time_samples_downsampled = len(downsampled_dataHPC)\n",
    "\n",
    "        time = np.arange(0, n_time_samples_downsampled) / (2500 / 4)\n",
    "        signal1 = downsampled_dataHPC\n",
    "        signal2 = downsampled_dataPFC\n",
    "\n",
    "        signals = np.stack((signal1, signal2), axis=-1)\n",
    "    \n",
    "        m = Multitaper(\n",
    "        signals,\n",
    "        sampling_frequency=625,\n",
    "        time_halfbandwidth_product=time_halfbandwidth_product,\n",
    "        start_time=time[0],\n",
    "        time_window_duration=10,\n",
    "        time_window_step=1\n",
    "        )\n",
    "\n",
    "        c = Connectivity(fourier_coefficients=m.fft(), frequencies=m.frequencies, time=m.time)\n",
    "\n",
    "        delay_theta, slope, r_value= c.group_delay(\n",
    "        frequencies_of_interest=list(range(5,12)), frequency_resolution=m.frequency_resolution\n",
    "        )\n",
    "        \n",
    "        D1=np.nanmean(delay_theta[:,0,1]) #hippocampus as leading signal\n",
    "\n",
    "        theta.append(D1)\n",
    "    return theta"
   ]
  },
  {
   "cell_type": "code",
   "execution_count": 3,
   "metadata": {},
   "outputs": [],
   "source": [
    "#this function calculate the mean and standard error of mean of theta and gamma delays calculated in theta_gamma function\n",
    "\n",
    "def average(theta,beta):\n",
    "    # Calculate the average\n",
    "    theta_mean = np.nanmean(theta)\n",
    "    beta_mean = np.nanmean(beta)\n",
    "\n",
    "\n",
    "    # Calculate the standard error of mean\n",
    "    t=pd.Series(theta)\n",
    "    g=pd.Series(beta)\n",
    "    theta_std = (np.nanstd(theta))/(np.sqrt(t.count()))\n",
    "    beta_std = (np.nanstd(beta))/(np.sqrt(g.count()))\n",
    "\n",
    "    return theta_mean,theta_std"
   ]
  },
  {
   "cell_type": "code",
   "execution_count": 4,
   "metadata": {},
   "outputs": [],
   "source": [
    "\n",
    "pathsHPC = [path for path in Path('/Users/omid/Desktop/2021-06-03_13-38-14_posttrial5').resolve().glob(\"**/*HPC*.mat\")] # works (all full paths to HPC files)\n",
    "pathsPFC = [path for path in Path('/Users/omid/Desktop/2021-06-03_13-38-14_posttrial5').resolve().glob(\"**/*PFC*.mat\")] # works (all full paths to PFC files)\n"
   ]
  },
  {
   "cell_type": "code",
   "execution_count": 5,
   "metadata": {},
   "outputs": [
    {
     "data": {
      "text/plain": [
       "[PosixPath('/Users/omid/Desktop/2021-06-03_13-38-14_posttrial5/PFC_100_CH22_0.continuous.mat')]"
      ]
     },
     "execution_count": 5,
     "metadata": {},
     "output_type": "execute_result"
    }
   ],
   "source": [
    "pathsPFC"
   ]
  },
  {
   "cell_type": "code",
   "execution_count": 6,
   "metadata": {},
   "outputs": [
    {
     "ename": "",
     "evalue": "",
     "output_type": "error",
     "traceback": [
      "\u001b[1;31mThe Kernel crashed while executing code in the the current cell or a previous cell. Please review the code in the cell(s) to identify a possible cause of the failure. Click <a href='https://aka.ms/vscodeJupyterKernelCrash'>here</a> for more info. View Jupyter <a href='command:jupyter.viewOutput'>log</a> for further details."
     ]
    }
   ],
   "source": [
    "theta = theta_beta(pathsHPC,pathsPFC)\n",
    "theta_mean,theta_std = average(theta)"
   ]
  }
 ],
 "metadata": {
  "kernelspec": {
   "display_name": "base",
   "language": "python",
   "name": "python3"
  },
  "language_info": {
   "codemirror_mode": {
    "name": "ipython",
    "version": 3
   },
   "file_extension": ".py",
   "mimetype": "text/x-python",
   "name": "python",
   "nbconvert_exporter": "python",
   "pygments_lexer": "ipython3",
   "version": "3.11.3"
  },
  "orig_nbformat": 4,
  "vscode": {
   "interpreter": {
    "hash": "7106a2dd42f767f596383dbbdc683a7b6315aa8f09b4aaa716d55419ef198934"
   }
  }
 },
 "nbformat": 4,
 "nbformat_minor": 2
}
